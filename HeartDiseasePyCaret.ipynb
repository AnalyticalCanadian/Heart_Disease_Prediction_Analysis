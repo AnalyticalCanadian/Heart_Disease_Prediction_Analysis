{
 "cells": [
  {
   "cell_type": "code",
   "execution_count": 1,
   "metadata": {},
   "outputs": [
    {
     "name": "stderr",
     "output_type": "stream",
     "text": [
      "C:\\Users\\91968\\anaconda3\\Lib\\site-packages\\pandas\\core\\arrays\\masked.py:60: UserWarning: Pandas requires version '1.3.6' or newer of 'bottleneck' (version '1.3.5' currently installed).\n",
      "  from pandas.core import (\n"
     ]
    }
   ],
   "source": [
    "import pandas as pd\n",
    "import numpy as np"
   ]
  },
  {
   "cell_type": "code",
   "execution_count": 2,
   "metadata": {},
   "outputs": [],
   "source": [
    "from pycaret.classification import *"
   ]
  },
  {
   "cell_type": "code",
   "execution_count": 3,
   "metadata": {},
   "outputs": [],
   "source": [
    "heart_disease_df = pd.read_csv('cardio_train.csv', sep =';')"
   ]
  },
  {
   "cell_type": "code",
   "execution_count": 4,
   "metadata": {},
   "outputs": [
    {
     "data": {
      "text/html": [
       "<div>\n",
       "<style scoped>\n",
       "    .dataframe tbody tr th:only-of-type {\n",
       "        vertical-align: middle;\n",
       "    }\n",
       "\n",
       "    .dataframe tbody tr th {\n",
       "        vertical-align: top;\n",
       "    }\n",
       "\n",
       "    .dataframe thead th {\n",
       "        text-align: right;\n",
       "    }\n",
       "</style>\n",
       "<table border=\"1\" class=\"dataframe\">\n",
       "  <thead>\n",
       "    <tr style=\"text-align: right;\">\n",
       "      <th></th>\n",
       "      <th>id</th>\n",
       "      <th>age</th>\n",
       "      <th>gender</th>\n",
       "      <th>height</th>\n",
       "      <th>weight</th>\n",
       "      <th>ap_hi</th>\n",
       "      <th>ap_lo</th>\n",
       "      <th>cholesterol</th>\n",
       "      <th>gluc</th>\n",
       "      <th>smoke</th>\n",
       "      <th>alco</th>\n",
       "      <th>active</th>\n",
       "      <th>cardio</th>\n",
       "    </tr>\n",
       "  </thead>\n",
       "  <tbody>\n",
       "    <tr>\n",
       "      <th>0</th>\n",
       "      <td>0</td>\n",
       "      <td>18393</td>\n",
       "      <td>2</td>\n",
       "      <td>168</td>\n",
       "      <td>62.0</td>\n",
       "      <td>110</td>\n",
       "      <td>80</td>\n",
       "      <td>1</td>\n",
       "      <td>1</td>\n",
       "      <td>0</td>\n",
       "      <td>0</td>\n",
       "      <td>1</td>\n",
       "      <td>0</td>\n",
       "    </tr>\n",
       "    <tr>\n",
       "      <th>1</th>\n",
       "      <td>1</td>\n",
       "      <td>20228</td>\n",
       "      <td>1</td>\n",
       "      <td>156</td>\n",
       "      <td>85.0</td>\n",
       "      <td>140</td>\n",
       "      <td>90</td>\n",
       "      <td>3</td>\n",
       "      <td>1</td>\n",
       "      <td>0</td>\n",
       "      <td>0</td>\n",
       "      <td>1</td>\n",
       "      <td>1</td>\n",
       "    </tr>\n",
       "    <tr>\n",
       "      <th>2</th>\n",
       "      <td>2</td>\n",
       "      <td>18857</td>\n",
       "      <td>1</td>\n",
       "      <td>165</td>\n",
       "      <td>64.0</td>\n",
       "      <td>130</td>\n",
       "      <td>70</td>\n",
       "      <td>3</td>\n",
       "      <td>1</td>\n",
       "      <td>0</td>\n",
       "      <td>0</td>\n",
       "      <td>0</td>\n",
       "      <td>1</td>\n",
       "    </tr>\n",
       "    <tr>\n",
       "      <th>3</th>\n",
       "      <td>3</td>\n",
       "      <td>17623</td>\n",
       "      <td>2</td>\n",
       "      <td>169</td>\n",
       "      <td>82.0</td>\n",
       "      <td>150</td>\n",
       "      <td>100</td>\n",
       "      <td>1</td>\n",
       "      <td>1</td>\n",
       "      <td>0</td>\n",
       "      <td>0</td>\n",
       "      <td>1</td>\n",
       "      <td>1</td>\n",
       "    </tr>\n",
       "    <tr>\n",
       "      <th>4</th>\n",
       "      <td>4</td>\n",
       "      <td>17474</td>\n",
       "      <td>1</td>\n",
       "      <td>156</td>\n",
       "      <td>56.0</td>\n",
       "      <td>100</td>\n",
       "      <td>60</td>\n",
       "      <td>1</td>\n",
       "      <td>1</td>\n",
       "      <td>0</td>\n",
       "      <td>0</td>\n",
       "      <td>0</td>\n",
       "      <td>0</td>\n",
       "    </tr>\n",
       "    <tr>\n",
       "      <th>5</th>\n",
       "      <td>8</td>\n",
       "      <td>21914</td>\n",
       "      <td>1</td>\n",
       "      <td>151</td>\n",
       "      <td>67.0</td>\n",
       "      <td>120</td>\n",
       "      <td>80</td>\n",
       "      <td>2</td>\n",
       "      <td>2</td>\n",
       "      <td>0</td>\n",
       "      <td>0</td>\n",
       "      <td>0</td>\n",
       "      <td>0</td>\n",
       "    </tr>\n",
       "    <tr>\n",
       "      <th>6</th>\n",
       "      <td>9</td>\n",
       "      <td>22113</td>\n",
       "      <td>1</td>\n",
       "      <td>157</td>\n",
       "      <td>93.0</td>\n",
       "      <td>130</td>\n",
       "      <td>80</td>\n",
       "      <td>3</td>\n",
       "      <td>1</td>\n",
       "      <td>0</td>\n",
       "      <td>0</td>\n",
       "      <td>1</td>\n",
       "      <td>0</td>\n",
       "    </tr>\n",
       "    <tr>\n",
       "      <th>7</th>\n",
       "      <td>12</td>\n",
       "      <td>22584</td>\n",
       "      <td>2</td>\n",
       "      <td>178</td>\n",
       "      <td>95.0</td>\n",
       "      <td>130</td>\n",
       "      <td>90</td>\n",
       "      <td>3</td>\n",
       "      <td>3</td>\n",
       "      <td>0</td>\n",
       "      <td>0</td>\n",
       "      <td>1</td>\n",
       "      <td>1</td>\n",
       "    </tr>\n",
       "    <tr>\n",
       "      <th>8</th>\n",
       "      <td>13</td>\n",
       "      <td>17668</td>\n",
       "      <td>1</td>\n",
       "      <td>158</td>\n",
       "      <td>71.0</td>\n",
       "      <td>110</td>\n",
       "      <td>70</td>\n",
       "      <td>1</td>\n",
       "      <td>1</td>\n",
       "      <td>0</td>\n",
       "      <td>0</td>\n",
       "      <td>1</td>\n",
       "      <td>0</td>\n",
       "    </tr>\n",
       "    <tr>\n",
       "      <th>9</th>\n",
       "      <td>14</td>\n",
       "      <td>19834</td>\n",
       "      <td>1</td>\n",
       "      <td>164</td>\n",
       "      <td>68.0</td>\n",
       "      <td>110</td>\n",
       "      <td>60</td>\n",
       "      <td>1</td>\n",
       "      <td>1</td>\n",
       "      <td>0</td>\n",
       "      <td>0</td>\n",
       "      <td>0</td>\n",
       "      <td>0</td>\n",
       "    </tr>\n",
       "  </tbody>\n",
       "</table>\n",
       "</div>"
      ],
      "text/plain": [
       "   id    age  gender  height  weight  ap_hi  ap_lo  cholesterol  gluc  smoke  \\\n",
       "0   0  18393       2     168    62.0    110     80            1     1      0   \n",
       "1   1  20228       1     156    85.0    140     90            3     1      0   \n",
       "2   2  18857       1     165    64.0    130     70            3     1      0   \n",
       "3   3  17623       2     169    82.0    150    100            1     1      0   \n",
       "4   4  17474       1     156    56.0    100     60            1     1      0   \n",
       "5   8  21914       1     151    67.0    120     80            2     2      0   \n",
       "6   9  22113       1     157    93.0    130     80            3     1      0   \n",
       "7  12  22584       2     178    95.0    130     90            3     3      0   \n",
       "8  13  17668       1     158    71.0    110     70            1     1      0   \n",
       "9  14  19834       1     164    68.0    110     60            1     1      0   \n",
       "\n",
       "   alco  active  cardio  \n",
       "0     0       1       0  \n",
       "1     0       1       1  \n",
       "2     0       0       1  \n",
       "3     0       1       1  \n",
       "4     0       0       0  \n",
       "5     0       0       0  \n",
       "6     0       1       0  \n",
       "7     0       1       1  \n",
       "8     0       1       0  \n",
       "9     0       0       0  "
      ]
     },
     "execution_count": 4,
     "metadata": {},
     "output_type": "execute_result"
    }
   ],
   "source": [
    "heart_disease_df.head(10)"
   ]
  },
  {
   "cell_type": "code",
   "execution_count": 5,
   "metadata": {},
   "outputs": [],
   "source": [
    "heart_disease_df = heart_disease_df.drop(['id'], axis=1)\n"
   ]
  },
  {
   "cell_type": "code",
   "execution_count": 6,
   "metadata": {},
   "outputs": [
    {
     "name": "stdout",
     "output_type": "stream",
     "text": [
      "Data for Modeling: (49000, 12)\n",
      "Unseen Data For Predictions: (21000, 12)\n"
     ]
    }
   ],
   "source": [
    "hd_data = heart_disease_df.sample(frac=0.7, random_state=786).reset_index(drop=True)\n",
    "hd_data_unseen = heart_disease_df.drop(hd_data.index).reset_index(drop=True)\n",
    "print('Data for Modeling: ' + str(hd_data.shape))\n",
    "print('Unseen Data For Predictions: ' + str(hd_data_unseen.shape))"
   ]
  },
  {
   "cell_type": "code",
   "execution_count": 7,
   "metadata": {},
   "outputs": [
    {
     "data": {
      "text/plain": [
       "<Axes: >"
      ]
     },
     "execution_count": 7,
     "metadata": {},
     "output_type": "execute_result"
    },
    {
     "data": {
      "image/png": "[encoded data removed]",
      "text/plain": [
       "<Figure size 800x550 with 1 Axes>"
      ]
     },
     "metadata": {},
     "output_type": "display_data"
    }
   ],
   "source": [
    "hd_data['cardio'].hist()"
   ]
  },
  {
   "cell_type": "code",
   "execution_count": 8,
   "metadata": {},
   "outputs": [
    {
     "data": {
      "text/html": [
       "<style type=\"text/css\">\n",
       "#T_a5c8a_row8_col1 {\n",
       "  background-color: lightgreen;\n",
       "}\n",
       "</style>\n",
       "<table id=\"T_a5c8a\">\n",
       "  <thead>\n",
       "    <tr>\n",
       "      <th class=\"blank level0\" >&nbsp;</th>\n",
       "      <th id=\"T_a5c8a_level0_col0\" class=\"col_heading level0 col0\" >Description</th>\n",
       "      <th id=\"T_a5c8a_level0_col1\" class=\"col_heading level0 col1\" >Value</th>\n",
       "    </tr>\n",
       "  </thead>\n",
       "  <tbody>\n",
       "    <tr>\n",
       "      <th id=\"T_a5c8a_level0_row0\" class=\"row_heading level0 row0\" >0</th>\n",
       "      <td id=\"T_a5c8a_row0_col0\" class=\"data row0 col0\" >Session id</td>\n",
       "      <td id=\"T_a5c8a_row0_col1\" class=\"data row0 col1\" >42</td>\n",
       "    </tr>\n",
       "    <tr>\n",
       "      <th id=\"T_a5c8a_level0_row1\" class=\"row_heading level0 row1\" >1</th>\n",
       "      <td id=\"T_a5c8a_row1_col0\" class=\"data row1 col0\" >Target</td>\n",
       "      <td id=\"T_a5c8a_row1_col1\" class=\"data row1 col1\" >cardio</td>\n",
       "    </tr>\n",
       "    <tr>\n",
       "      <th id=\"T_a5c8a_level0_row2\" class=\"row_heading level0 row2\" >2</th>\n",
       "      <td id=\"T_a5c8a_row2_col0\" class=\"data row2 col0\" >Target type</td>\n",
       "      <td id=\"T_a5c8a_row2_col1\" class=\"data row2 col1\" >Binary</td>\n",
       "    </tr>\n",
       "    <tr>\n",
       "      <th id=\"T_a5c8a_level0_row3\" class=\"row_heading level0 row3\" >3</th>\n",
       "      <td id=\"T_a5c8a_row3_col0\" class=\"data row3 col0\" >Original data shape</td>\n",
       "      <td id=\"T_a5c8a_row3_col1\" class=\"data row3 col1\" >(49000, 12)</td>\n",
       "    </tr>\n",
       "    <tr>\n",
       "      <th id=\"T_a5c8a_level0_row4\" class=\"row_heading level0 row4\" >4</th>\n",
       "      <td id=\"T_a5c8a_row4_col0\" class=\"data row4 col0\" >Transformed data shape</td>\n",
       "      <td id=\"T_a5c8a_row4_col1\" class=\"data row4 col1\" >(49000, 12)</td>\n",
       "    </tr>\n",
       "    <tr>\n",
       "      <th id=\"T_a5c8a_level0_row5\" class=\"row_heading level0 row5\" >5</th>\n",
       "      <td id=\"T_a5c8a_row5_col0\" class=\"data row5 col0\" >Transformed train set shape</td>\n",
       "      <td id=\"T_a5c8a_row5_col1\" class=\"data row5 col1\" >(34300, 12)</td>\n",
       "    </tr>\n",
       "    <tr>\n",
       "      <th id=\"T_a5c8a_level0_row6\" class=\"row_heading level0 row6\" >6</th>\n",
       "      <td id=\"T_a5c8a_row6_col0\" class=\"data row6 col0\" >Transformed test set shape</td>\n",
       "      <td id=\"T_a5c8a_row6_col1\" class=\"data row6 col1\" >(14700, 12)</td>\n",
       "    </tr>\n",
       "    <tr>\n",
       "      <th id=\"T_a5c8a_level0_row7\" class=\"row_heading level0 row7\" >7</th>\n",
       "      <td id=\"T_a5c8a_row7_col0\" class=\"data row7 col0\" >Numeric features</td>\n",
       "      <td id=\"T_a5c8a_row7_col1\" class=\"data row7 col1\" >11</td>\n",
       "    </tr>\n",
       "    <tr>\n",
       "      <th id=\"T_a5c8a_level0_row8\" class=\"row_heading level0 row8\" >8</th>\n",
       "      <td id=\"T_a5c8a_row8_col0\" class=\"data row8 col0\" >Preprocess</td>\n",
       "      <td id=\"T_a5c8a_row8_col1\" class=\"data row8 col1\" >True</td>\n",
       "    </tr>\n",
       "    <tr>\n",
       "      <th id=\"T_a5c8a_level0_row9\" class=\"row_heading level0 row9\" >9</th>\n",
       "      <td id=\"T_a5c8a_row9_col0\" class=\"data row9 col0\" >Imputation type</td>\n",
       "      <td id=\"T_a5c8a_row9_col1\" class=\"data row9 col1\" >simple</td>\n",
       "    </tr>\n",
       "    <tr>\n",
       "      <th id=\"T_a5c8a_level0_row10\" class=\"row_heading level0 row10\" >10</th>\n",
       "      <td id=\"T_a5c8a_row10_col0\" class=\"data row10 col0\" >Numeric imputation</td>\n",
       "      <td id=\"T_a5c8a_row10_col1\" class=\"data row10 col1\" >mean</td>\n",
       "    </tr>\n",
       "    <tr>\n",
       "      <th id=\"T_a5c8a_level0_row11\" class=\"row_heading level0 row11\" >11</th>\n",
       "      <td id=\"T_a5c8a_row11_col0\" class=\"data row11 col0\" >Categorical imputation</td>\n",
       "      <td id=\"T_a5c8a_row11_col1\" class=\"data row11 col1\" >mode</td>\n",
       "    </tr>\n",
       "    <tr>\n",
       "      <th id=\"T_a5c8a_level0_row12\" class=\"row_heading level0 row12\" >12</th>\n",
       "      <td id=\"T_a5c8a_row12_col0\" class=\"data row12 col0\" >Fold Generator</td>\n",
       "      <td id=\"T_a5c8a_row12_col1\" class=\"data row12 col1\" >StratifiedKFold</td>\n",
       "    </tr>\n",
       "    <tr>\n",
       "      <th id=\"T_a5c8a_level0_row13\" class=\"row_heading level0 row13\" >13</th>\n",
       "      <td id=\"T_a5c8a_row13_col0\" class=\"data row13 col0\" >Fold Number</td>\n",
       "      <td id=\"T_a5c8a_row13_col1\" class=\"data row13 col1\" >10</td>\n",
       "    </tr>\n",
       "    <tr>\n",
       "      <th id=\"T_a5c8a_level0_row14\" class=\"row_heading level0 row14\" >14</th>\n",
       "      <td id=\"T_a5c8a_row14_col0\" class=\"data row14 col0\" >CPU Jobs</td>\n",
       "      <td id=\"T_a5c8a_row14_col1\" class=\"data row14 col1\" >-1</td>\n",
       "    </tr>\n",
       "    <tr>\n",
       "      <th id=\"T_a5c8a_level0_row15\" class=\"row_heading level0 row15\" >15</th>\n",
       "      <td id=\"T_a5c8a_row15_col0\" class=\"data row15 col0\" >Use GPU</td>\n",
       "      <td id=\"T_a5c8a_row15_col1\" class=\"data row15 col1\" >False</td>\n",
       "    </tr>\n",
       "    <tr>\n",
       "      <th id=\"T_a5c8a_level0_row16\" class=\"row_heading level0 row16\" >16</th>\n",
       "      <td id=\"T_a5c8a_row16_col0\" class=\"data row16 col0\" >Log Experiment</td>\n",
       "      <td id=\"T_a5c8a_row16_col1\" class=\"data row16 col1\" >False</td>\n",
       "    </tr>\n",
       "    <tr>\n",
       "      <th id=\"T_a5c8a_level0_row17\" class=\"row_heading level0 row17\" >17</th>\n",
       "      <td id=\"T_a5c8a_row17_col0\" class=\"data row17 col0\" >Experiment Name</td>\n",
       "      <td id=\"T_a5c8a_row17_col1\" class=\"data row17 col1\" >clf-default-name</td>\n",
       "    </tr>\n",
       "    <tr>\n",
       "      <th id=\"T_a5c8a_level0_row18\" class=\"row_heading level0 row18\" >18</th>\n",
       "      <td id=\"T_a5c8a_row18_col0\" class=\"data row18 col0\" >USI</td>\n",
       "      <td id=\"T_a5c8a_row18_col1\" class=\"data row18 col1\" >c3e8</td>\n",
       "    </tr>\n",
       "  </tbody>\n",
       "</table>\n"
      ],
      "text/plain": [
       "<pandas.io.formats.style.Styler at 0x289ee463990>"
      ]
     },
     "metadata": {},
     "output_type": "display_data"
    }
   ],
   "source": [
    "heartDisease_clf = setup(data = hd_data, target = 'cardio', session_id=42) "
   ]
  },
  {
   "cell_type": "code",
   "execution_count": null,
   "metadata": {},
   "outputs": [
    {
     "data": {
      "text/html": [
       "<div>\n",
       "<style scoped>\n",
       "    .dataframe tbody tr th:only-of-type {\n",
       "        vertical-align: middle;\n",
       "    }\n",
       "\n",
       "    .dataframe tbody tr th {\n",
       "        vertical-align: top;\n",
       "    }\n",
       "\n",
       "    .dataframe thead th {\n",
       "        text-align: right;\n",
       "    }\n",
       "</style>\n",
       "<table border=\"1\" class=\"dataframe\">\n",
       "  <thead>\n",
       "    <tr style=\"text-align: right;\">\n",
       "      <th></th>\n",
       "      <th></th>\n",
       "      <th></th>\n",
       "    </tr>\n",
       "    <tr>\n",
       "      <th></th>\n",
       "      <th></th>\n",
       "      <th></th>\n",
       "    </tr>\n",
       "  </thead>\n",
       "  <tbody>\n",
       "    <tr>\n",
       "      <th>Initiated</th>\n",
       "      <td>. . . . . . . . . . . . . . . . . .</td>\n",
       "      <td>03:14:19</td>\n",
       "    </tr>\n",
       "    <tr>\n",
       "      <th>Status</th>\n",
       "      <td>. . . . . . . . . . . . . . . . . .</td>\n",
       "      <td>Fitting 10 Folds</td>\n",
       "    </tr>\n",
       "    <tr>\n",
       "      <th>Estimator</th>\n",
       "      <td>. . . . . . . . . . . . . . . . . .</td>\n",
       "      <td>CatBoost Classifier</td>\n",
       "    </tr>\n",
       "  </tbody>\n",
       "</table>\n",
       "</div>"
      ],
      "text/plain": [
       "                                                                   \n",
       "                                                                   \n",
       "Initiated  . . . . . . . . . . . . . . . . . .             03:14:19\n",
       "Status     . . . . . . . . . . . . . . . . . .     Fitting 10 Folds\n",
       "Estimator  . . . . . . . . . . . . . . . . . .  CatBoost Classifier"
      ]
     },
     "metadata": {},
     "output_type": "display_data"
    },
    {
     "data": {
      "text/html": [
       "<style type=\"text/css\">\n",
       "#T_9701a th {\n",
       "  text-align: left;\n",
       "}\n",
       "#T_9701a_row0_col0, #T_9701a_row0_col1, #T_9701a_row0_col2, #T_9701a_row0_col3, #T_9701a_row0_col4, #T_9701a_row0_col5, #T_9701a_row0_col6, #T_9701a_row0_col7, #T_9701a_row0_col8, #T_9701a_row1_col0, #T_9701a_row1_col1, #T_9701a_row1_col2, #T_9701a_row1_col3, #T_9701a_row1_col4, #T_9701a_row1_col5, #T_9701a_row1_col6, #T_9701a_row1_col7, #T_9701a_row1_col8, #T_9701a_row2_col0, #T_9701a_row2_col1, #T_9701a_row2_col2, #T_9701a_row2_col3, #T_9701a_row2_col4, #T_9701a_row2_col5, #T_9701a_row2_col6, #T_9701a_row2_col7, #T_9701a_row2_col8, #T_9701a_row3_col0, #T_9701a_row3_col1, #T_9701a_row3_col2, #T_9701a_row3_col3, #T_9701a_row3_col4, #T_9701a_row3_col5, #T_9701a_row3_col6, #T_9701a_row3_col7, #T_9701a_row3_col8, #T_9701a_row4_col0, #T_9701a_row4_col1, #T_9701a_row4_col2, #T_9701a_row4_col3, #T_9701a_row4_col4, #T_9701a_row4_col5, #T_9701a_row4_col6, #T_9701a_row4_col7, #T_9701a_row4_col8, #T_9701a_row5_col0, #T_9701a_row5_col1, #T_9701a_row5_col2, #T_9701a_row5_col3, #T_9701a_row5_col4, #T_9701a_row5_col5, #T_9701a_row5_col6, #T_9701a_row5_col7, #T_9701a_row5_col8, #T_9701a_row6_col0, #T_9701a_row6_col1, #T_9701a_row6_col2, #T_9701a_row6_col3, #T_9701a_row6_col4, #T_9701a_row6_col5, #T_9701a_row6_col6, #T_9701a_row6_col7, #T_9701a_row6_col8, #T_9701a_row7_col0, #T_9701a_row7_col1, #T_9701a_row7_col2, #T_9701a_row7_col3, #T_9701a_row7_col4, #T_9701a_row7_col5, #T_9701a_row7_col6, #T_9701a_row7_col7, #T_9701a_row7_col8, #T_9701a_row8_col0, #T_9701a_row8_col1, #T_9701a_row8_col2, #T_9701a_row8_col3, #T_9701a_row8_col4, #T_9701a_row8_col5, #T_9701a_row8_col6, #T_9701a_row8_col7, #T_9701a_row8_col8, #T_9701a_row9_col0, #T_9701a_row9_col1, #T_9701a_row9_col2, #T_9701a_row9_col3, #T_9701a_row9_col4, #T_9701a_row9_col5, #T_9701a_row9_col6, #T_9701a_row9_col7, #T_9701a_row9_col8, #T_9701a_row10_col0, #T_9701a_row10_col1, #T_9701a_row10_col2, #T_9701a_row10_col3, #T_9701a_row10_col4, #T_9701a_row10_col5, #T_9701a_row10_col6, #T_9701a_row10_col7, #T_9701a_row10_col8, #T_9701a_row11_col0, #T_9701a_row11_col1, #T_9701a_row11_col2, #T_9701a_row11_col3, #T_9701a_row11_col4, #T_9701a_row11_col5, #T_9701a_row11_col6, #T_9701a_row11_col7, #T_9701a_row11_col8, #T_9701a_row12_col0, #T_9701a_row12_col1, #T_9701a_row12_col2, #T_9701a_row12_col3, #T_9701a_row12_col4, #T_9701a_row12_col5, #T_9701a_row12_col6, #T_9701a_row12_col7, #T_9701a_row12_col8 {\n",
       "  text-align: left;\n",
       "}\n",
       "</style>\n",
       "<table id=\"T_9701a\">\n",
       "  <thead>\n",
       "    <tr>\n",
       "      <th class=\"blank level0\" >&nbsp;</th>\n",
       "      <th id=\"T_9701a_level0_col0\" class=\"col_heading level0 col0\" >Model</th>\n",
       "      <th id=\"T_9701a_level0_col1\" class=\"col_heading level0 col1\" >Accuracy</th>\n",
       "      <th id=\"T_9701a_level0_col2\" class=\"col_heading level0 col2\" >AUC</th>\n",
       "      <th id=\"T_9701a_level0_col3\" class=\"col_heading level0 col3\" >Recall</th>\n",
       "      <th id=\"T_9701a_level0_col4\" class=\"col_heading level0 col4\" >Prec.</th>\n",
       "      <th id=\"T_9701a_level0_col5\" class=\"col_heading level0 col5\" >F1</th>\n",
       "      <th id=\"T_9701a_level0_col6\" class=\"col_heading level0 col6\" >Kappa</th>\n",
       "      <th id=\"T_9701a_level0_col7\" class=\"col_heading level0 col7\" >MCC</th>\n",
       "      <th id=\"T_9701a_level0_col8\" class=\"col_heading level0 col8\" >TT (Sec)</th>\n",
       "    </tr>\n",
       "  </thead>\n",
       "  <tbody>\n",
       "    <tr>\n",
       "      <th id=\"T_9701a_level0_row0\" class=\"row_heading level0 row0\" >gbc</th>\n",
       "      <td id=\"T_9701a_row0_col0\" class=\"data row0 col0\" >Gradient Boosting Classifier</td>\n",
       "      <td id=\"T_9701a_row0_col1\" class=\"data row0 col1\" >0.7372</td>\n",
       "      <td id=\"T_9701a_row0_col2\" class=\"data row0 col2\" >0.8029</td>\n",
       "      <td id=\"T_9701a_row0_col3\" class=\"data row0 col3\" >0.6937</td>\n",
       "      <td id=\"T_9701a_row0_col4\" class=\"data row0 col4\" >0.7580</td>\n",
       "      <td id=\"T_9701a_row0_col5\" class=\"data row0 col5\" >0.7244</td>\n",
       "      <td id=\"T_9701a_row0_col6\" class=\"data row0 col6\" >0.4742</td>\n",
       "      <td id=\"T_9701a_row0_col7\" class=\"data row0 col7\" >0.4760</td>\n",
       "      <td id=\"T_9701a_row0_col8\" class=\"data row0 col8\" >1.7690</td>\n",
       "    </tr>\n",
       "    <tr>\n",
       "      <th id=\"T_9701a_level0_row1\" class=\"row_heading level0 row1\" >lightgbm</th>\n",
       "      <td id=\"T_9701a_row1_col0\" class=\"data row1 col0\" >Light Gradient Boosting Machine</td>\n",
       "      <td id=\"T_9701a_row1_col1\" class=\"data row1 col1\" >0.7344</td>\n",
       "      <td id=\"T_9701a_row1_col2\" class=\"data row1 col2\" >0.8010</td>\n",
       "      <td id=\"T_9701a_row1_col3\" class=\"data row1 col3\" >0.6883</td>\n",
       "      <td id=\"T_9701a_row1_col4\" class=\"data row1 col4\" >0.7563</td>\n",
       "      <td id=\"T_9701a_row1_col5\" class=\"data row1 col5\" >0.7207</td>\n",
       "      <td id=\"T_9701a_row1_col6\" class=\"data row1 col6\" >0.4686</td>\n",
       "      <td id=\"T_9701a_row1_col7\" class=\"data row1 col7\" >0.4705</td>\n",
       "      <td id=\"T_9701a_row1_col8\" class=\"data row1 col8\" >0.4100</td>\n",
       "    </tr>\n",
       "    <tr>\n",
       "      <th id=\"T_9701a_level0_row2\" class=\"row_heading level0 row2\" >ada</th>\n",
       "      <td id=\"T_9701a_row2_col0\" class=\"data row2 col0\" >Ada Boost Classifier</td>\n",
       "      <td id=\"T_9701a_row2_col1\" class=\"data row2 col1\" >0.7311</td>\n",
       "      <td id=\"T_9701a_row2_col2\" class=\"data row2 col2\" >0.7957</td>\n",
       "      <td id=\"T_9701a_row2_col3\" class=\"data row2 col3\" >0.6568</td>\n",
       "      <td id=\"T_9701a_row2_col4\" class=\"data row2 col4\" >0.7696</td>\n",
       "      <td id=\"T_9701a_row2_col5\" class=\"data row2 col5\" >0.7087</td>\n",
       "      <td id=\"T_9701a_row2_col6\" class=\"data row2 col6\" >0.4619</td>\n",
       "      <td id=\"T_9701a_row2_col7\" class=\"data row2 col7\" >0.4670</td>\n",
       "      <td id=\"T_9701a_row2_col8\" class=\"data row2 col8\" >0.5740</td>\n",
       "    </tr>\n",
       "    <tr>\n",
       "      <th id=\"T_9701a_level0_row3\" class=\"row_heading level0 row3\" >lr</th>\n",
       "      <td id=\"T_9701a_row3_col0\" class=\"data row3 col0\" >Logistic Regression</td>\n",
       "      <td id=\"T_9701a_row3_col1\" class=\"data row3 col1\" >0.7184</td>\n",
       "      <td id=\"T_9701a_row3_col2\" class=\"data row3 col2\" >0.7765</td>\n",
       "      <td id=\"T_9701a_row3_col3\" class=\"data row3 col3\" >0.6742</td>\n",
       "      <td id=\"T_9701a_row3_col4\" class=\"data row3 col4\" >0.7376</td>\n",
       "      <td id=\"T_9701a_row3_col5\" class=\"data row3 col5\" >0.7044</td>\n",
       "      <td id=\"T_9701a_row3_col6\" class=\"data row3 col6\" >0.4365</td>\n",
       "      <td id=\"T_9701a_row3_col7\" class=\"data row3 col7\" >0.4382</td>\n",
       "      <td id=\"T_9701a_row3_col8\" class=\"data row3 col8\" >2.7520</td>\n",
       "    </tr>\n",
       "    <tr>\n",
       "      <th id=\"T_9701a_level0_row4\" class=\"row_heading level0 row4\" >rf</th>\n",
       "      <td id=\"T_9701a_row4_col0\" class=\"data row4 col0\" >Random Forest Classifier</td>\n",
       "      <td id=\"T_9701a_row4_col1\" class=\"data row4 col1\" >0.7168</td>\n",
       "      <td id=\"T_9701a_row4_col2\" class=\"data row4 col2\" >0.7764</td>\n",
       "      <td id=\"T_9701a_row4_col3\" class=\"data row4 col3\" >0.6985</td>\n",
       "      <td id=\"T_9701a_row4_col4\" class=\"data row4 col4\" >0.7232</td>\n",
       "      <td id=\"T_9701a_row4_col5\" class=\"data row4 col5\" >0.7106</td>\n",
       "      <td id=\"T_9701a_row4_col6\" class=\"data row4 col6\" >0.4335</td>\n",
       "      <td id=\"T_9701a_row4_col7\" class=\"data row4 col7\" >0.4338</td>\n",
       "      <td id=\"T_9701a_row4_col8\" class=\"data row4 col8\" >1.8720</td>\n",
       "    </tr>\n",
       "    <tr>\n",
       "      <th id=\"T_9701a_level0_row5\" class=\"row_heading level0 row5\" >et</th>\n",
       "      <td id=\"T_9701a_row5_col0\" class=\"data row5 col0\" >Extra Trees Classifier</td>\n",
       "      <td id=\"T_9701a_row5_col1\" class=\"data row5 col1\" >0.7050</td>\n",
       "      <td id=\"T_9701a_row5_col2\" class=\"data row5 col2\" >0.7620</td>\n",
       "      <td id=\"T_9701a_row5_col3\" class=\"data row5 col3\" >0.6990</td>\n",
       "      <td id=\"T_9701a_row5_col4\" class=\"data row5 col4\" >0.7057</td>\n",
       "      <td id=\"T_9701a_row5_col5\" class=\"data row5 col5\" >0.7023</td>\n",
       "      <td id=\"T_9701a_row5_col6\" class=\"data row5 col6\" >0.4100</td>\n",
       "      <td id=\"T_9701a_row5_col7\" class=\"data row5 col7\" >0.4101</td>\n",
       "      <td id=\"T_9701a_row5_col8\" class=\"data row5 col8\" >1.6900</td>\n",
       "    </tr>\n",
       "    <tr>\n",
       "      <th id=\"T_9701a_level0_row6\" class=\"row_heading level0 row6\" >knn</th>\n",
       "      <td id=\"T_9701a_row6_col0\" class=\"data row6 col0\" >K Neighbors Classifier</td>\n",
       "      <td id=\"T_9701a_row6_col1\" class=\"data row6 col1\" >0.6762</td>\n",
       "      <td id=\"T_9701a_row6_col2\" class=\"data row6 col2\" >0.7219</td>\n",
       "      <td id=\"T_9701a_row6_col3\" class=\"data row6 col3\" >0.6544</td>\n",
       "      <td id=\"T_9701a_row6_col4\" class=\"data row6 col4\" >0.6824</td>\n",
       "      <td id=\"T_9701a_row6_col5\" class=\"data row6 col5\" >0.6680</td>\n",
       "      <td id=\"T_9701a_row6_col6\" class=\"data row6 col6\" >0.3524</td>\n",
       "      <td id=\"T_9701a_row6_col7\" class=\"data row6 col7\" >0.3527</td>\n",
       "      <td id=\"T_9701a_row6_col8\" class=\"data row6 col8\" >0.3930</td>\n",
       "    </tr>\n",
       "    <tr>\n",
       "      <th id=\"T_9701a_level0_row7\" class=\"row_heading level0 row7\" >ridge</th>\n",
       "      <td id=\"T_9701a_row7_col0\" class=\"data row7 col0\" >Ridge Classifier</td>\n",
       "      <td id=\"T_9701a_row7_col1\" class=\"data row7 col1\" >0.6497</td>\n",
       "      <td id=\"T_9701a_row7_col2\" class=\"data row7 col2\" >0.0000</td>\n",
       "      <td id=\"T_9701a_row7_col3\" class=\"data row7 col3\" >0.6072</td>\n",
       "      <td id=\"T_9701a_row7_col4\" class=\"data row7 col4\" >0.6614</td>\n",
       "      <td id=\"T_9701a_row7_col5\" class=\"data row7 col5\" >0.6331</td>\n",
       "      <td id=\"T_9701a_row7_col6\" class=\"data row7 col6\" >0.2990</td>\n",
       "      <td id=\"T_9701a_row7_col7\" class=\"data row7 col7\" >0.3001</td>\n",
       "      <td id=\"T_9701a_row7_col8\" class=\"data row7 col8\" >0.0400</td>\n",
       "    </tr>\n",
       "    <tr>\n",
       "      <th id=\"T_9701a_level0_row8\" class=\"row_heading level0 row8\" >lda</th>\n",
       "      <td id=\"T_9701a_row8_col0\" class=\"data row8 col0\" >Linear Discriminant Analysis</td>\n",
       "      <td id=\"T_9701a_row8_col1\" class=\"data row8 col1\" >0.6497</td>\n",
       "      <td id=\"T_9701a_row8_col2\" class=\"data row8 col2\" >0.7073</td>\n",
       "      <td id=\"T_9701a_row8_col3\" class=\"data row8 col3\" >0.6072</td>\n",
       "      <td id=\"T_9701a_row8_col4\" class=\"data row8 col4\" >0.6614</td>\n",
       "      <td id=\"T_9701a_row8_col5\" class=\"data row8 col5\" >0.6331</td>\n",
       "      <td id=\"T_9701a_row8_col6\" class=\"data row8 col6\" >0.2991</td>\n",
       "      <td id=\"T_9701a_row8_col7\" class=\"data row8 col7\" >0.3001</td>\n",
       "      <td id=\"T_9701a_row8_col8\" class=\"data row8 col8\" >0.0690</td>\n",
       "    </tr>\n",
       "    <tr>\n",
       "      <th id=\"T_9701a_level0_row9\" class=\"row_heading level0 row9\" >dt</th>\n",
       "      <td id=\"T_9701a_row9_col0\" class=\"data row9 col0\" >Decision Tree Classifier</td>\n",
       "      <td id=\"T_9701a_row9_col1\" class=\"data row9 col1\" >0.6324</td>\n",
       "      <td id=\"T_9701a_row9_col2\" class=\"data row9 col2\" >0.6325</td>\n",
       "      <td id=\"T_9701a_row9_col3\" class=\"data row9 col3\" >0.6354</td>\n",
       "      <td id=\"T_9701a_row9_col4\" class=\"data row9 col4\" >0.6298</td>\n",
       "      <td id=\"T_9701a_row9_col5\" class=\"data row9 col5\" >0.6325</td>\n",
       "      <td id=\"T_9701a_row9_col6\" class=\"data row9 col6\" >0.2649</td>\n",
       "      <td id=\"T_9701a_row9_col7\" class=\"data row9 col7\" >0.2649</td>\n",
       "      <td id=\"T_9701a_row9_col8\" class=\"data row9 col8\" >0.1660</td>\n",
       "    </tr>\n",
       "    <tr>\n",
       "      <th id=\"T_9701a_level0_row10\" class=\"row_heading level0 row10\" >svm</th>\n",
       "      <td id=\"T_9701a_row10_col0\" class=\"data row10 col0\" >SVM - Linear Kernel</td>\n",
       "      <td id=\"T_9701a_row10_col1\" class=\"data row10 col1\" >0.6082</td>\n",
       "      <td id=\"T_9701a_row10_col2\" class=\"data row10 col2\" >0.0000</td>\n",
       "      <td id=\"T_9701a_row10_col3\" class=\"data row10 col3\" >0.5587</td>\n",
       "      <td id=\"T_9701a_row10_col4\" class=\"data row10 col4\" >0.7145</td>\n",
       "      <td id=\"T_9701a_row10_col5\" class=\"data row10 col5\" >0.5352</td>\n",
       "      <td id=\"T_9701a_row10_col6\" class=\"data row10 col6\" >0.2161</td>\n",
       "      <td id=\"T_9701a_row10_col7\" class=\"data row10 col7\" >0.2667</td>\n",
       "      <td id=\"T_9701a_row10_col8\" class=\"data row10 col8\" >0.7150</td>\n",
       "    </tr>\n",
       "    <tr>\n",
       "      <th id=\"T_9701a_level0_row11\" class=\"row_heading level0 row11\" >nb</th>\n",
       "      <td id=\"T_9701a_row11_col0\" class=\"data row11 col0\" >Naive Bayes</td>\n",
       "      <td id=\"T_9701a_row11_col1\" class=\"data row11 col1\" >0.5866</td>\n",
       "      <td id=\"T_9701a_row11_col2\" class=\"data row11 col2\" >0.7333</td>\n",
       "      <td id=\"T_9701a_row11_col3\" class=\"data row11 col3\" >0.2411</td>\n",
       "      <td id=\"T_9701a_row11_col4\" class=\"data row11 col4\" >0.7712</td>\n",
       "      <td id=\"T_9701a_row11_col5\" class=\"data row11 col5\" >0.3672</td>\n",
       "      <td id=\"T_9701a_row11_col6\" class=\"data row11 col6\" >0.1707</td>\n",
       "      <td id=\"T_9701a_row11_col7\" class=\"data row11 col7\" >0.2347</td>\n",
       "      <td id=\"T_9701a_row11_col8\" class=\"data row11 col8\" >0.0550</td>\n",
       "    </tr>\n",
       "    <tr>\n",
       "      <th id=\"T_9701a_level0_row12\" class=\"row_heading level0 row12\" >qda</th>\n",
       "      <td id=\"T_9701a_row12_col0\" class=\"data row12 col0\" >Quadratic Discriminant Analysis</td>\n",
       "      <td id=\"T_9701a_row12_col1\" class=\"data row12 col1\" >0.5859</td>\n",
       "      <td id=\"T_9701a_row12_col2\" class=\"data row12 col2\" >0.7347</td>\n",
       "      <td id=\"T_9701a_row12_col3\" class=\"data row12 col3\" >0.2380</td>\n",
       "      <td id=\"T_9701a_row12_col4\" class=\"data row12 col4\" >0.7732</td>\n",
       "      <td id=\"T_9701a_row12_col5\" class=\"data row12 col5\" >0.3639</td>\n",
       "      <td id=\"T_9701a_row12_col6\" class=\"data row12 col6\" >0.1693</td>\n",
       "      <td id=\"T_9701a_row12_col7\" class=\"data row12 col7\" >0.2342</td>\n",
       "      <td id=\"T_9701a_row12_col8\" class=\"data row12 col8\" >0.0570</td>\n",
       "    </tr>\n",
       "  </tbody>\n",
       "</table>\n"
      ],
      "text/plain": [
       "<pandas.io.formats.style.Styler at 0x289edf68190>"
      ]
     },
     "metadata": {},
     "output_type": "display_data"
    },
    {
     "data": {
      "application/vnd.jupyter.widget-view+json": {
       "model_id": "171b1ab0057847c499e1f9a2b15f80ec",
       "version_major": 2,
       "version_minor": 0
      },
      "text/plain": [
       "Processing:   0%|          | 0/69 [00:00<?, ?it/s]"
      ]
     },
     "metadata": {},
     "output_type": "display_data"
    }
   ],
   "source": [
    "hf_models =compare_models(n_select = 5)"
   ]
  },
  {
   "cell_type": "code",
   "execution_count": null,
   "metadata": {},
   "outputs": [],
   "source": [
    "print(hf_models)"
   ]
  },
  {
   "cell_type": "code",
   "execution_count": null,
   "metadata": {},
   "outputs": [],
   "source": [
    "plot_model(hf_models[0], plot = 'auc')"
   ]
  },
  {
   "cell_type": "code",
   "execution_count": null,
   "metadata": {},
   "outputs": [],
   "source": [
    "plot_model(hf_models[0], plot = 'pr')"
   ]
  },
  {
   "cell_type": "code",
   "execution_count": null,
   "metadata": {},
   "outputs": [],
   "source": [
    "plot_model(hf_models[0], plot='feature')"
   ]
  },
  {
   "cell_type": "code",
   "execution_count": null,
   "metadata": {},
   "outputs": [],
   "source": [
    "plot_model(hf_models[2], plot='feature')"
   ]
  },
  {
   "cell_type": "code",
   "execution_count": null,
   "metadata": {},
   "outputs": [],
   "source": [
    "plot_model(hf_models[0], plot = 'confusion_matrix')"
   ]
  },
  {
   "cell_type": "code",
   "execution_count": null,
   "metadata": {},
   "outputs": [],
   "source": [
    "predict_model(hf_models[0])"
   ]
  },
  {
   "cell_type": "code",
   "execution_count": null,
   "metadata": {},
   "outputs": [],
   "source": [
    "predict_model(hf_models[1])"
   ]
  },
  {
   "cell_type": "code",
   "execution_count": null,
   "metadata": {},
   "outputs": [],
   "source": [
    "unseen_predictions = predict_model(hf_models[0], data=hd_data_unseen)\n",
    "unseen_predictions.head()"
   ]
  },
  {
   "cell_type": "code",
   "execution_count": null,
   "metadata": {},
   "outputs": [],
   "source": [
    "final_GradientBoostingClassifier = finalize_model(hf_models[0])"
   ]
  },
  {
   "cell_type": "code",
   "execution_count": null,
   "metadata": {},
   "outputs": [],
   "source": [
    "unseen_predictions = predict_model(final_GradientBoostingClassifier, data=hd_data_unseen)\n",
    "unseen_predictions.head()"
   ]
  },
  {
   "cell_type": "code",
   "execution_count": null,
   "metadata": {},
   "outputs": [],
   "source": [
    "save_model(final_GradientBoostingClassifier,'Final GBC Model')"
   ]
  },
  {
   "cell_type": "code",
   "execution_count": null,
   "metadata": {},
   "outputs": [],
   "source": [
    "saved_final_GBC = load_model('Final GBC Model')"
   ]
  },
  {
   "cell_type": "code",
   "execution_count": null,
   "metadata": {},
   "outputs": [],
   "source": [
    "new_prediction = predict_model(saved_final_GBC, data=hd_data_unseen)"
   ]
  },
  {
   "cell_type": "code",
   "execution_count": null,
   "metadata": {},
   "outputs": [],
   "source": [
    "new_prediction.head()"
   ]
  },
  {
   "cell_type": "code",
   "execution_count": null,
   "metadata": {},
   "outputs": [],
   "source": []
  }
 ],
 "metadata": {
  "kernelspec": {
   "display_name": "Python 3",
   "language": "python",
   "name": "python3"
  },
  "language_info": {
   "codemirror_mode": {
    "name": "ipython",
    "version": 3
   },
   "file_extension": ".py",
   "mimetype": "text/x-python",
   "name": "python",
   "nbconvert_exporter": "python",
   "pygments_lexer": "ipython3",
   "version": "3.11.5"
  }
 },
 "nbformat": 4,
 "nbformat_minor": 4
}
